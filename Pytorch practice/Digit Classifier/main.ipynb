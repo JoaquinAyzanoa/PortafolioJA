{
 "cells": [
  {
   "cell_type": "code",
   "execution_count": 28,
   "metadata": {},
   "outputs": [],
   "source": [
    "from fastai.vision.all import *\n",
    "import pandas as pd"
   ]
  },
  {
   "cell_type": "code",
   "execution_count": 29,
   "metadata": {},
   "outputs": [],
   "source": [
    "# Download a sample of MNIST that contains images of just 3 or 7\n",
    "\n",
    "path = untar_data(URLs.MNIST_SAMPLE)"
   ]
  },
  {
   "cell_type": "code",
   "execution_count": 30,
   "metadata": {},
   "outputs": [
    {
     "data": {
      "text/plain": [
       "(#3) [Path('C:/Users/joaqu/.fastai/data/mnist_sample/labels.csv'),Path('C:/Users/joaqu/.fastai/data/mnist_sample/train'),Path('C:/Users/joaqu/.fastai/data/mnist_sample/valid')]"
      ]
     },
     "execution_count": 30,
     "metadata": {},
     "output_type": "execute_result"
    }
   ],
   "source": [
    "path.ls()"
   ]
  },
  {
   "cell_type": "code",
   "execution_count": 31,
   "metadata": {},
   "outputs": [
    {
     "data": {
      "text/plain": [
       "(#2) [Path('C:/Users/joaqu/.fastai/data/mnist_sample/train/3'),Path('C:/Users/joaqu/.fastai/data/mnist_sample/train/7')]"
      ]
     },
     "execution_count": 31,
     "metadata": {},
     "output_type": "execute_result"
    }
   ],
   "source": [
    "#what’s inside the training set\n",
    "(path/'train').ls()"
   ]
  },
  {
   "cell_type": "code",
   "execution_count": 32,
   "metadata": {},
   "outputs": [
    {
     "data": {
      "text/plain": [
       "(#6131) [Path('C:/Users/joaqu/.fastai/data/mnist_sample/train/3/10.png'),Path('C:/Users/joaqu/.fastai/data/mnist_sample/train/3/10000.png'),Path('C:/Users/joaqu/.fastai/data/mnist_sample/train/3/10011.png'),Path('C:/Users/joaqu/.fastai/data/mnist_sample/train/3/10031.png'),Path('C:/Users/joaqu/.fastai/data/mnist_sample/train/3/10034.png'),Path('C:/Users/joaqu/.fastai/data/mnist_sample/train/3/10042.png'),Path('C:/Users/joaqu/.fastai/data/mnist_sample/train/3/10052.png'),Path('C:/Users/joaqu/.fastai/data/mnist_sample/train/3/1007.png'),Path('C:/Users/joaqu/.fastai/data/mnist_sample/train/3/10074.png'),Path('C:/Users/joaqu/.fastai/data/mnist_sample/train/3/10091.png')...]"
      ]
     },
     "execution_count": 32,
     "metadata": {},
     "output_type": "execute_result"
    }
   ],
   "source": [
    "#look in one of these folders\n",
    "threes = (path/'train'/'3').ls().sorted()\n",
    "sevens = (path/'train'/'7').ls().sorted()\n",
    "threes"
   ]
  },
  {
   "cell_type": "code",
   "execution_count": 33,
   "metadata": {},
   "outputs": [
    {
     "data": {
      "image/jpeg": "[encoded data removed]",
      "image/png": "[encoded data removed]",
      "text/plain": [
       "<PIL.PngImagePlugin.PngImageFile image mode=L size=28x28>"
      ]
     },
     "execution_count": 33,
     "metadata": {},
     "output_type": "execute_result"
    }
   ],
   "source": [
    "#Plot an image\n",
    "im3_path = threes[2]\n",
    "im3 = Image.open(im3_path)\n",
    "im3"
   ]
  },
  {
   "cell_type": "code",
   "execution_count": 34,
   "metadata": {},
   "outputs": [
    {
     "data": {
      "text/html": [
       "<style type=\"text/css\">\n",
       "#T_f6336_row0_col0, #T_f6336_row0_col1, #T_f6336_row0_col2, #T_f6336_row0_col3, #T_f6336_row0_col4, #T_f6336_row0_col5, #T_f6336_row0_col6, #T_f6336_row0_col7, #T_f6336_row0_col8, #T_f6336_row0_col9, #T_f6336_row0_col10, #T_f6336_row0_col11, #T_f6336_row0_col12, #T_f6336_row0_col13, #T_f6336_row0_col14, #T_f6336_row0_col15, #T_f6336_row0_col16, #T_f6336_row0_col17, #T_f6336_row0_col18, #T_f6336_row0_col19, #T_f6336_row0_col20, #T_f6336_row1_col0, #T_f6336_row1_col1, #T_f6336_row1_col2, #T_f6336_row1_col3, #T_f6336_row1_col4, #T_f6336_row1_col5, #T_f6336_row1_col6, #T_f6336_row1_col7, #T_f6336_row1_col8, #T_f6336_row1_col9, #T_f6336_row1_col10, #T_f6336_row1_col11, #T_f6336_row1_col12, #T_f6336_row1_col13, #T_f6336_row1_col14, #T_f6336_row1_col15, #T_f6336_row1_col16, #T_f6336_row1_col17, #T_f6336_row1_col18, #T_f6336_row1_col19, #T_f6336_row1_col20, #T_f6336_row2_col0, #T_f6336_row2_col1, #T_f6336_row2_col2, #T_f6336_row2_col3, #T_f6336_row2_col4, #T_f6336_row2_col5, #T_f6336_row2_col15, #T_f6336_row2_col16, #T_f6336_row2_col17, #T_f6336_row2_col18, #T_f6336_row2_col19, #T_f6336_row2_col20, #T_f6336_row3_col0, #T_f6336_row3_col1, #T_f6336_row3_col2, #T_f6336_row3_col16, #T_f6336_row3_col17, #T_f6336_row3_col18, #T_f6336_row3_col19, #T_f6336_row3_col20, #T_f6336_row4_col0, #T_f6336_row4_col1, #T_f6336_row4_col2, #T_f6336_row4_col16, #T_f6336_row4_col17, #T_f6336_row4_col18, #T_f6336_row4_col19, #T_f6336_row4_col20, #T_f6336_row5_col0, #T_f6336_row5_col1, #T_f6336_row5_col2, #T_f6336_row5_col8, #T_f6336_row5_col9, #T_f6336_row5_col10, #T_f6336_row5_col11, #T_f6336_row5_col16, #T_f6336_row5_col17, #T_f6336_row5_col18, #T_f6336_row5_col19, #T_f6336_row5_col20, #T_f6336_row6_col0, #T_f6336_row6_col1, #T_f6336_row6_col2, #T_f6336_row6_col6, #T_f6336_row6_col7, #T_f6336_row6_col8, #T_f6336_row6_col9, #T_f6336_row6_col10, #T_f6336_row6_col16, #T_f6336_row6_col17, #T_f6336_row6_col18, #T_f6336_row6_col19, #T_f6336_row6_col20, #T_f6336_row7_col0, #T_f6336_row7_col1, #T_f6336_row7_col2, #T_f6336_row7_col3, #T_f6336_row7_col4, #T_f6336_row7_col5, #T_f6336_row7_col6, #T_f6336_row7_col7, #T_f6336_row7_col8, #T_f6336_row7_col16, #T_f6336_row7_col17, #T_f6336_row7_col18, #T_f6336_row7_col19, #T_f6336_row7_col20, #T_f6336_row8_col0, #T_f6336_row8_col1, #T_f6336_row8_col2, #T_f6336_row8_col3, #T_f6336_row8_col4, #T_f6336_row8_col5, #T_f6336_row8_col15, #T_f6336_row8_col16, #T_f6336_row8_col17, #T_f6336_row8_col18, #T_f6336_row8_col19, #T_f6336_row8_col20, #T_f6336_row9_col0, #T_f6336_row9_col1, #T_f6336_row9_col2, #T_f6336_row9_col3, #T_f6336_row9_col4, #T_f6336_row9_col14, #T_f6336_row9_col15, #T_f6336_row9_col16, #T_f6336_row9_col17, #T_f6336_row9_col18, #T_f6336_row9_col19, #T_f6336_row9_col20, #T_f6336_row10_col0, #T_f6336_row10_col1, #T_f6336_row10_col2, #T_f6336_row10_col3, #T_f6336_row10_col4, #T_f6336_row10_col14, #T_f6336_row10_col15, #T_f6336_row10_col16, #T_f6336_row10_col17, #T_f6336_row10_col18, #T_f6336_row10_col19, #T_f6336_row10_col20, #T_f6336_row11_col0, #T_f6336_row11_col1, #T_f6336_row11_col2, #T_f6336_row11_col3, #T_f6336_row11_col4, #T_f6336_row11_col5, #T_f6336_row11_col10, #T_f6336_row11_col11, #T_f6336_row11_col15, #T_f6336_row11_col16, #T_f6336_row11_col17, #T_f6336_row11_col18, #T_f6336_row11_col19, #T_f6336_row11_col20, #T_f6336_row12_col0, #T_f6336_row12_col1, #T_f6336_row12_col2, #T_f6336_row12_col3, #T_f6336_row12_col4, #T_f6336_row12_col5, #T_f6336_row12_col6, #T_f6336_row12_col7, #T_f6336_row12_col8, #T_f6336_row12_col9, #T_f6336_row12_col10, #T_f6336_row12_col11, #T_f6336_row12_col15, #T_f6336_row12_col16, #T_f6336_row12_col17, #T_f6336_row12_col18, #T_f6336_row12_col19, #T_f6336_row12_col20, #T_f6336_row13_col0, #T_f6336_row13_col1, #T_f6336_row13_col2, #T_f6336_row13_col3, #T_f6336_row13_col4, #T_f6336_row13_col5, #T_f6336_row13_col6, #T_f6336_row13_col7, #T_f6336_row13_col8, #T_f6336_row13_col9, #T_f6336_row13_col10, #T_f6336_row13_col11, #T_f6336_row13_col15, #T_f6336_row13_col16, #T_f6336_row13_col17, #T_f6336_row13_col18, #T_f6336_row13_col19, #T_f6336_row13_col20 {\n",
       "  font-size: 6pt;\n",
       "  background-color: #ffffff;\n",
       "  color: #000000;\n",
       "}\n",
       "#T_f6336_row2_col6, #T_f6336_row11_col9 {\n",
       "  font-size: 6pt;\n",
       "  background-color: #f7f7f7;\n",
       "  color: #000000;\n",
       "}\n",
       "#T_f6336_row2_col7, #T_f6336_row10_col11 {\n",
       "  font-size: 6pt;\n",
       "  background-color: #bebebe;\n",
       "  color: #000000;\n",
       "}\n",
       "#T_f6336_row2_col8 {\n",
       "  font-size: 6pt;\n",
       "  background-color: #6d6d6d;\n",
       "  color: #f1f1f1;\n",
       "}\n",
       "#T_f6336_row2_col9, #T_f6336_row2_col10, #T_f6336_row2_col11, #T_f6336_row2_col12, #T_f6336_row2_col13, #T_f6336_row3_col6, #T_f6336_row3_col7, #T_f6336_row3_col8, #T_f6336_row4_col3, #T_f6336_row4_col4, #T_f6336_row4_col5, #T_f6336_row4_col6, #T_f6336_row4_col14, #T_f6336_row5_col3, #T_f6336_row5_col4, #T_f6336_row5_col14, #T_f6336_row5_col15, #T_f6336_row6_col14, #T_f6336_row9_col7, #T_f6336_row9_col8, #T_f6336_row10_col7, #T_f6336_row10_col8 {\n",
       "  font-size: 6pt;\n",
       "  background-color: #000000;\n",
       "  color: #f1f1f1;\n",
       "}\n",
       "#T_f6336_row2_col14, #T_f6336_row3_col5, #T_f6336_row6_col4 {\n",
       "  font-size: 6pt;\n",
       "  background-color: #7b7b7b;\n",
       "  color: #f1f1f1;\n",
       "}\n",
       "#T_f6336_row3_col3, #T_f6336_row5_col12 {\n",
       "  font-size: 6pt;\n",
       "  background-color: #ececec;\n",
       "  color: #000000;\n",
       "}\n",
       "#T_f6336_row3_col4 {\n",
       "  font-size: 6pt;\n",
       "  background-color: #ededed;\n",
       "  color: #000000;\n",
       "}\n",
       "#T_f6336_row3_col9, #T_f6336_row3_col11, #T_f6336_row5_col5, #T_f6336_row6_col13, #T_f6336_row7_col12, #T_f6336_row7_col13, #T_f6336_row8_col11, #T_f6336_row8_col12, #T_f6336_row9_col9, #T_f6336_row9_col11, #T_f6336_row9_col12, #T_f6336_row12_col13, #T_f6336_row13_col13 {\n",
       "  font-size: 6pt;\n",
       "  background-color: #010101;\n",
       "  color: #f1f1f1;\n",
       "}\n",
       "#T_f6336_row3_col10, #T_f6336_row8_col10, #T_f6336_row9_col10 {\n",
       "  font-size: 6pt;\n",
       "  background-color: #020202;\n",
       "  color: #f1f1f1;\n",
       "}\n",
       "#T_f6336_row3_col12 {\n",
       "  font-size: 6pt;\n",
       "  background-color: #2b2b2b;\n",
       "  color: #f1f1f1;\n",
       "}\n",
       "#T_f6336_row3_col13 {\n",
       "  font-size: 6pt;\n",
       "  background-color: #111111;\n",
       "  color: #f1f1f1;\n",
       "}\n",
       "#T_f6336_row3_col14 {\n",
       "  font-size: 6pt;\n",
       "  background-color: #303030;\n",
       "  color: #f1f1f1;\n",
       "}\n",
       "#T_f6336_row3_col15 {\n",
       "  font-size: 6pt;\n",
       "  background-color: #f9f9f9;\n",
       "  color: #000000;\n",
       "}\n",
       "#T_f6336_row4_col7 {\n",
       "  font-size: 6pt;\n",
       "  background-color: #090909;\n",
       "  color: #f1f1f1;\n",
       "}\n",
       "#T_f6336_row4_col8 {\n",
       "  font-size: 6pt;\n",
       "  background-color: #646464;\n",
       "  color: #f1f1f1;\n",
       "}\n",
       "#T_f6336_row4_col9, #T_f6336_row4_col10, #T_f6336_row4_col11 {\n",
       "  font-size: 6pt;\n",
       "  background-color: #c9c9c9;\n",
       "  color: #000000;\n",
       "}\n",
       "#T_f6336_row4_col12 {\n",
       "  font-size: 6pt;\n",
       "  background-color: #fefefe;\n",
       "  color: #000000;\n",
       "}\n",
       "#T_f6336_row4_col13 {\n",
       "  font-size: 6pt;\n",
       "  background-color: #7e7e7e;\n",
       "  color: #f1f1f1;\n",
       "}\n",
       "#T_f6336_row4_col15 {\n",
       "  font-size: 6pt;\n",
       "  background-color: #404040;\n",
       "  color: #f1f1f1;\n",
       "}\n",
       "#T_f6336_row5_col6 {\n",
       "  font-size: 6pt;\n",
       "  background-color: #656565;\n",
       "  color: #f1f1f1;\n",
       "}\n",
       "#T_f6336_row5_col7 {\n",
       "  font-size: 6pt;\n",
       "  background-color: #e0e0e0;\n",
       "  color: #000000;\n",
       "}\n",
       "#T_f6336_row5_col13 {\n",
       "  font-size: 6pt;\n",
       "  background-color: #606060;\n",
       "  color: #f1f1f1;\n",
       "}\n",
       "#T_f6336_row6_col3 {\n",
       "  font-size: 6pt;\n",
       "  background-color: #e4e4e4;\n",
       "  color: #000000;\n",
       "}\n",
       "#T_f6336_row6_col5 {\n",
       "  font-size: 6pt;\n",
       "  background-color: #e2e2e2;\n",
       "  color: #000000;\n",
       "}\n",
       "#T_f6336_row6_col11 {\n",
       "  font-size: 6pt;\n",
       "  background-color: #eaeaea;\n",
       "  color: #000000;\n",
       "}\n",
       "#T_f6336_row6_col12 {\n",
       "  font-size: 6pt;\n",
       "  background-color: #1d1d1d;\n",
       "  color: #f1f1f1;\n",
       "}\n",
       "#T_f6336_row6_col15 {\n",
       "  font-size: 6pt;\n",
       "  background-color: #464646;\n",
       "  color: #f1f1f1;\n",
       "}\n",
       "#T_f6336_row7_col9 {\n",
       "  font-size: 6pt;\n",
       "  background-color: #c8c8c8;\n",
       "  color: #000000;\n",
       "}\n",
       "#T_f6336_row7_col10, #T_f6336_row9_col6 {\n",
       "  font-size: 6pt;\n",
       "  background-color: #3d3d3d;\n",
       "  color: #f1f1f1;\n",
       "}\n",
       "#T_f6336_row7_col11 {\n",
       "  font-size: 6pt;\n",
       "  background-color: #141414;\n",
       "  color: #f1f1f1;\n",
       "}\n",
       "#T_f6336_row7_col14 {\n",
       "  font-size: 6pt;\n",
       "  background-color: #333333;\n",
       "  color: #f1f1f1;\n",
       "}\n",
       "#T_f6336_row7_col15 {\n",
       "  font-size: 6pt;\n",
       "  background-color: #fafafa;\n",
       "  color: #000000;\n",
       "}\n",
       "#T_f6336_row8_col6 {\n",
       "  font-size: 6pt;\n",
       "  background-color: #d4d4d4;\n",
       "  color: #000000;\n",
       "}\n",
       "#T_f6336_row8_col7 {\n",
       "  font-size: 6pt;\n",
       "  background-color: #848484;\n",
       "  color: #f1f1f1;\n",
       "}\n",
       "#T_f6336_row8_col8, #T_f6336_row11_col13 {\n",
       "  font-size: 6pt;\n",
       "  background-color: #0c0c0c;\n",
       "  color: #f1f1f1;\n",
       "}\n",
       "#T_f6336_row8_col9 {\n",
       "  font-size: 6pt;\n",
       "  background-color: #030303;\n",
       "  color: #f1f1f1;\n",
       "}\n",
       "#T_f6336_row8_col13 {\n",
       "  font-size: 6pt;\n",
       "  background-color: #5c5c5c;\n",
       "  color: #f1f1f1;\n",
       "}\n",
       "#T_f6336_row8_col14 {\n",
       "  font-size: 6pt;\n",
       "  background-color: #e3e3e3;\n",
       "  color: #000000;\n",
       "}\n",
       "#T_f6336_row9_col5, #T_f6336_row10_col5 {\n",
       "  font-size: 6pt;\n",
       "  background-color: #fdfdfd;\n",
       "  color: #000000;\n",
       "}\n",
       "#T_f6336_row9_col13 {\n",
       "  font-size: 6pt;\n",
       "  background-color: #b0b0b0;\n",
       "  color: #000000;\n",
       "}\n",
       "#T_f6336_row10_col6 {\n",
       "  font-size: 6pt;\n",
       "  background-color: #151515;\n",
       "  color: #f1f1f1;\n",
       "}\n",
       "#T_f6336_row10_col9 {\n",
       "  font-size: 6pt;\n",
       "  background-color: #272727;\n",
       "  color: #f1f1f1;\n",
       "}\n",
       "#T_f6336_row10_col10 {\n",
       "  font-size: 6pt;\n",
       "  background-color: #6b6b6b;\n",
       "  color: #f1f1f1;\n",
       "}\n",
       "#T_f6336_row10_col12 {\n",
       "  font-size: 6pt;\n",
       "  background-color: #050505;\n",
       "  color: #f1f1f1;\n",
       "}\n",
       "#T_f6336_row10_col13, #T_f6336_row12_col14 {\n",
       "  font-size: 6pt;\n",
       "  background-color: #999999;\n",
       "  color: #f1f1f1;\n",
       "}\n",
       "#T_f6336_row11_col6 {\n",
       "  font-size: 6pt;\n",
       "  background-color: #aaaaaa;\n",
       "  color: #f1f1f1;\n",
       "}\n",
       "#T_f6336_row11_col7 {\n",
       "  font-size: 6pt;\n",
       "  background-color: #616161;\n",
       "  color: #f1f1f1;\n",
       "}\n",
       "#T_f6336_row11_col8 {\n",
       "  font-size: 6pt;\n",
       "  background-color: #cecece;\n",
       "  color: #000000;\n",
       "}\n",
       "#T_f6336_row11_col12 {\n",
       "  font-size: 6pt;\n",
       "  background-color: #060606;\n",
       "  color: #f1f1f1;\n",
       "}\n",
       "#T_f6336_row11_col14 {\n",
       "  font-size: 6pt;\n",
       "  background-color: #dadada;\n",
       "  color: #000000;\n",
       "}\n",
       "#T_f6336_row12_col12 {\n",
       "  font-size: 6pt;\n",
       "  background-color: #323232;\n",
       "  color: #f1f1f1;\n",
       "}\n",
       "#T_f6336_row13_col12 {\n",
       "  font-size: 6pt;\n",
       "  background-color: #929292;\n",
       "  color: #f1f1f1;\n",
       "}\n",
       "#T_f6336_row13_col14 {\n",
       "  font-size: 6pt;\n",
       "  background-color: #3a3a3a;\n",
       "  color: #f1f1f1;\n",
       "}\n",
       "</style>\n",
       "<table id=\"T_f6336\">\n",
       "  <thead>\n",
       "    <tr>\n",
       "      <th class=\"blank level0\" >&nbsp;</th>\n",
       "      <th id=\"T_f6336_level0_col0\" class=\"col_heading level0 col0\" >0</th>\n",
       "      <th id=\"T_f6336_level0_col1\" class=\"col_heading level0 col1\" >1</th>\n",
       "      <th id=\"T_f6336_level0_col2\" class=\"col_heading level0 col2\" >2</th>\n",
       "      <th id=\"T_f6336_level0_col3\" class=\"col_heading level0 col3\" >3</th>\n",
       "      <th id=\"T_f6336_level0_col4\" class=\"col_heading level0 col4\" >4</th>\n",
       "      <th id=\"T_f6336_level0_col5\" class=\"col_heading level0 col5\" >5</th>\n",
       "      <th id=\"T_f6336_level0_col6\" class=\"col_heading level0 col6\" >6</th>\n",
       "      <th id=\"T_f6336_level0_col7\" class=\"col_heading level0 col7\" >7</th>\n",
       "      <th id=\"T_f6336_level0_col8\" class=\"col_heading level0 col8\" >8</th>\n",
       "      <th id=\"T_f6336_level0_col9\" class=\"col_heading level0 col9\" >9</th>\n",
       "      <th id=\"T_f6336_level0_col10\" class=\"col_heading level0 col10\" >10</th>\n",
       "      <th id=\"T_f6336_level0_col11\" class=\"col_heading level0 col11\" >11</th>\n",
       "      <th id=\"T_f6336_level0_col12\" class=\"col_heading level0 col12\" >12</th>\n",
       "      <th id=\"T_f6336_level0_col13\" class=\"col_heading level0 col13\" >13</th>\n",
       "      <th id=\"T_f6336_level0_col14\" class=\"col_heading level0 col14\" >14</th>\n",
       "      <th id=\"T_f6336_level0_col15\" class=\"col_heading level0 col15\" >15</th>\n",
       "      <th id=\"T_f6336_level0_col16\" class=\"col_heading level0 col16\" >16</th>\n",
       "      <th id=\"T_f6336_level0_col17\" class=\"col_heading level0 col17\" >17</th>\n",
       "      <th id=\"T_f6336_level0_col18\" class=\"col_heading level0 col18\" >18</th>\n",
       "      <th id=\"T_f6336_level0_col19\" class=\"col_heading level0 col19\" >19</th>\n",
       "      <th id=\"T_f6336_level0_col20\" class=\"col_heading level0 col20\" >20</th>\n",
       "    </tr>\n",
       "  </thead>\n",
       "  <tbody>\n",
       "    <tr>\n",
       "      <th id=\"T_f6336_level0_row0\" class=\"row_heading level0 row0\" >0</th>\n",
       "      <td id=\"T_f6336_row0_col0\" class=\"data row0 col0\" >0</td>\n",
       "      <td id=\"T_f6336_row0_col1\" class=\"data row0 col1\" >0</td>\n",
       "      <td id=\"T_f6336_row0_col2\" class=\"data row0 col2\" >0</td>\n",
       "      <td id=\"T_f6336_row0_col3\" class=\"data row0 col3\" >0</td>\n",
       "      <td id=\"T_f6336_row0_col4\" class=\"data row0 col4\" >0</td>\n",
       "      <td id=\"T_f6336_row0_col5\" class=\"data row0 col5\" >0</td>\n",
       "      <td id=\"T_f6336_row0_col6\" class=\"data row0 col6\" >0</td>\n",
       "      <td id=\"T_f6336_row0_col7\" class=\"data row0 col7\" >0</td>\n",
       "      <td id=\"T_f6336_row0_col8\" class=\"data row0 col8\" >0</td>\n",
       "      <td id=\"T_f6336_row0_col9\" class=\"data row0 col9\" >0</td>\n",
       "      <td id=\"T_f6336_row0_col10\" class=\"data row0 col10\" >0</td>\n",
       "      <td id=\"T_f6336_row0_col11\" class=\"data row0 col11\" >0</td>\n",
       "      <td id=\"T_f6336_row0_col12\" class=\"data row0 col12\" >0</td>\n",
       "      <td id=\"T_f6336_row0_col13\" class=\"data row0 col13\" >0</td>\n",
       "      <td id=\"T_f6336_row0_col14\" class=\"data row0 col14\" >0</td>\n",
       "      <td id=\"T_f6336_row0_col15\" class=\"data row0 col15\" >0</td>\n",
       "      <td id=\"T_f6336_row0_col16\" class=\"data row0 col16\" >0</td>\n",
       "      <td id=\"T_f6336_row0_col17\" class=\"data row0 col17\" >0</td>\n",
       "      <td id=\"T_f6336_row0_col18\" class=\"data row0 col18\" >0</td>\n",
       "      <td id=\"T_f6336_row0_col19\" class=\"data row0 col19\" >0</td>\n",
       "      <td id=\"T_f6336_row0_col20\" class=\"data row0 col20\" >0</td>\n",
       "    </tr>\n",
       "    <tr>\n",
       "      <th id=\"T_f6336_level0_row1\" class=\"row_heading level0 row1\" >1</th>\n",
       "      <td id=\"T_f6336_row1_col0\" class=\"data row1 col0\" >0</td>\n",
       "      <td id=\"T_f6336_row1_col1\" class=\"data row1 col1\" >0</td>\n",
       "      <td id=\"T_f6336_row1_col2\" class=\"data row1 col2\" >0</td>\n",
       "      <td id=\"T_f6336_row1_col3\" class=\"data row1 col3\" >0</td>\n",
       "      <td id=\"T_f6336_row1_col4\" class=\"data row1 col4\" >0</td>\n",
       "      <td id=\"T_f6336_row1_col5\" class=\"data row1 col5\" >0</td>\n",
       "      <td id=\"T_f6336_row1_col6\" class=\"data row1 col6\" >0</td>\n",
       "      <td id=\"T_f6336_row1_col7\" class=\"data row1 col7\" >0</td>\n",
       "      <td id=\"T_f6336_row1_col8\" class=\"data row1 col8\" >0</td>\n",
       "      <td id=\"T_f6336_row1_col9\" class=\"data row1 col9\" >0</td>\n",
       "      <td id=\"T_f6336_row1_col10\" class=\"data row1 col10\" >0</td>\n",
       "      <td id=\"T_f6336_row1_col11\" class=\"data row1 col11\" >0</td>\n",
       "      <td id=\"T_f6336_row1_col12\" class=\"data row1 col12\" >0</td>\n",
       "      <td id=\"T_f6336_row1_col13\" class=\"data row1 col13\" >0</td>\n",
       "      <td id=\"T_f6336_row1_col14\" class=\"data row1 col14\" >0</td>\n",
       "      <td id=\"T_f6336_row1_col15\" class=\"data row1 col15\" >0</td>\n",
       "      <td id=\"T_f6336_row1_col16\" class=\"data row1 col16\" >0</td>\n",
       "      <td id=\"T_f6336_row1_col17\" class=\"data row1 col17\" >0</td>\n",
       "      <td id=\"T_f6336_row1_col18\" class=\"data row1 col18\" >0</td>\n",
       "      <td id=\"T_f6336_row1_col19\" class=\"data row1 col19\" >0</td>\n",
       "      <td id=\"T_f6336_row1_col20\" class=\"data row1 col20\" >0</td>\n",
       "    </tr>\n",
       "    <tr>\n",
       "      <th id=\"T_f6336_level0_row2\" class=\"row_heading level0 row2\" >2</th>\n",
       "      <td id=\"T_f6336_row2_col0\" class=\"data row2 col0\" >0</td>\n",
       "      <td id=\"T_f6336_row2_col1\" class=\"data row2 col1\" >0</td>\n",
       "      <td id=\"T_f6336_row2_col2\" class=\"data row2 col2\" >0</td>\n",
       "      <td id=\"T_f6336_row2_col3\" class=\"data row2 col3\" >0</td>\n",
       "      <td id=\"T_f6336_row2_col4\" class=\"data row2 col4\" >0</td>\n",
       "      <td id=\"T_f6336_row2_col5\" class=\"data row2 col5\" >1</td>\n",
       "      <td id=\"T_f6336_row2_col6\" class=\"data row2 col6\" >18</td>\n",
       "      <td id=\"T_f6336_row2_col7\" class=\"data row2 col7\" >93</td>\n",
       "      <td id=\"T_f6336_row2_col8\" class=\"data row2 col8\" >164</td>\n",
       "      <td id=\"T_f6336_row2_col9\" class=\"data row2 col9\" >254</td>\n",
       "      <td id=\"T_f6336_row2_col10\" class=\"data row2 col10\" >255</td>\n",
       "      <td id=\"T_f6336_row2_col11\" class=\"data row2 col11\" >254</td>\n",
       "      <td id=\"T_f6336_row2_col12\" class=\"data row2 col12\" >254</td>\n",
       "      <td id=\"T_f6336_row2_col13\" class=\"data row2 col13\" >254</td>\n",
       "      <td id=\"T_f6336_row2_col14\" class=\"data row2 col14\" >151</td>\n",
       "      <td id=\"T_f6336_row2_col15\" class=\"data row2 col15\" >0</td>\n",
       "      <td id=\"T_f6336_row2_col16\" class=\"data row2 col16\" >0</td>\n",
       "      <td id=\"T_f6336_row2_col17\" class=\"data row2 col17\" >0</td>\n",
       "      <td id=\"T_f6336_row2_col18\" class=\"data row2 col18\" >0</td>\n",
       "      <td id=\"T_f6336_row2_col19\" class=\"data row2 col19\" >0</td>\n",
       "      <td id=\"T_f6336_row2_col20\" class=\"data row2 col20\" >0</td>\n",
       "    </tr>\n",
       "    <tr>\n",
       "      <th id=\"T_f6336_level0_row3\" class=\"row_heading level0 row3\" >3</th>\n",
       "      <td id=\"T_f6336_row3_col0\" class=\"data row3 col0\" >0</td>\n",
       "      <td id=\"T_f6336_row3_col1\" class=\"data row3 col1\" >0</td>\n",
       "      <td id=\"T_f6336_row3_col2\" class=\"data row3 col2\" >0</td>\n",
       "      <td id=\"T_f6336_row3_col3\" class=\"data row3 col3\" >13</td>\n",
       "      <td id=\"T_f6336_row3_col4\" class=\"data row3 col4\" >36</td>\n",
       "      <td id=\"T_f6336_row3_col5\" class=\"data row3 col5\" >151</td>\n",
       "      <td id=\"T_f6336_row3_col6\" class=\"data row3 col6\" >253</td>\n",
       "      <td id=\"T_f6336_row3_col7\" class=\"data row3 col7\" >253</td>\n",
       "      <td id=\"T_f6336_row3_col8\" class=\"data row3 col8\" >253</td>\n",
       "      <td id=\"T_f6336_row3_col9\" class=\"data row3 col9\" >253</td>\n",
       "      <td id=\"T_f6336_row3_col10\" class=\"data row3 col10\" >253</td>\n",
       "      <td id=\"T_f6336_row3_col11\" class=\"data row3 col11\" >253</td>\n",
       "      <td id=\"T_f6336_row3_col12\" class=\"data row3 col12\" >218</td>\n",
       "      <td id=\"T_f6336_row3_col13\" class=\"data row3 col13\" >239</td>\n",
       "      <td id=\"T_f6336_row3_col14\" class=\"data row3 col14\" >213</td>\n",
       "      <td id=\"T_f6336_row3_col15\" class=\"data row3 col15\" >10</td>\n",
       "      <td id=\"T_f6336_row3_col16\" class=\"data row3 col16\" >0</td>\n",
       "      <td id=\"T_f6336_row3_col17\" class=\"data row3 col17\" >0</td>\n",
       "      <td id=\"T_f6336_row3_col18\" class=\"data row3 col18\" >0</td>\n",
       "      <td id=\"T_f6336_row3_col19\" class=\"data row3 col19\" >0</td>\n",
       "      <td id=\"T_f6336_row3_col20\" class=\"data row3 col20\" >0</td>\n",
       "    </tr>\n",
       "    <tr>\n",
       "      <th id=\"T_f6336_level0_row4\" class=\"row_heading level0 row4\" >4</th>\n",
       "      <td id=\"T_f6336_row4_col0\" class=\"data row4 col0\" >0</td>\n",
       "      <td id=\"T_f6336_row4_col1\" class=\"data row4 col1\" >0</td>\n",
       "      <td id=\"T_f6336_row4_col2\" class=\"data row4 col2\" >0</td>\n",
       "      <td id=\"T_f6336_row4_col3\" class=\"data row4 col3\" >89</td>\n",
       "      <td id=\"T_f6336_row4_col4\" class=\"data row4 col4\" >253</td>\n",
       "      <td id=\"T_f6336_row4_col5\" class=\"data row4 col5\" >253</td>\n",
       "      <td id=\"T_f6336_row4_col6\" class=\"data row4 col6\" >253</td>\n",
       "      <td id=\"T_f6336_row4_col7\" class=\"data row4 col7\" >245</td>\n",
       "      <td id=\"T_f6336_row4_col8\" class=\"data row4 col8\" >172</td>\n",
       "      <td id=\"T_f6336_row4_col9\" class=\"data row4 col9\" >82</td>\n",
       "      <td id=\"T_f6336_row4_col10\" class=\"data row4 col10\" >82</td>\n",
       "      <td id=\"T_f6336_row4_col11\" class=\"data row4 col11\" >82</td>\n",
       "      <td id=\"T_f6336_row4_col12\" class=\"data row4 col12\" >2</td>\n",
       "      <td id=\"T_f6336_row4_col13\" class=\"data row4 col13\" >148</td>\n",
       "      <td id=\"T_f6336_row4_col14\" class=\"data row4 col14\" >253</td>\n",
       "      <td id=\"T_f6336_row4_col15\" class=\"data row4 col15\" >150</td>\n",
       "      <td id=\"T_f6336_row4_col16\" class=\"data row4 col16\" >0</td>\n",
       "      <td id=\"T_f6336_row4_col17\" class=\"data row4 col17\" >0</td>\n",
       "      <td id=\"T_f6336_row4_col18\" class=\"data row4 col18\" >0</td>\n",
       "      <td id=\"T_f6336_row4_col19\" class=\"data row4 col19\" >0</td>\n",
       "      <td id=\"T_f6336_row4_col20\" class=\"data row4 col20\" >0</td>\n",
       "    </tr>\n",
       "    <tr>\n",
       "      <th id=\"T_f6336_level0_row5\" class=\"row_heading level0 row5\" >5</th>\n",
       "      <td id=\"T_f6336_row5_col0\" class=\"data row5 col0\" >0</td>\n",
       "      <td id=\"T_f6336_row5_col1\" class=\"data row5 col1\" >0</td>\n",
       "      <td id=\"T_f6336_row5_col2\" class=\"data row5 col2\" >0</td>\n",
       "      <td id=\"T_f6336_row5_col3\" class=\"data row5 col3\" >89</td>\n",
       "      <td id=\"T_f6336_row5_col4\" class=\"data row5 col4\" >253</td>\n",
       "      <td id=\"T_f6336_row5_col5\" class=\"data row5 col5\" >252</td>\n",
       "      <td id=\"T_f6336_row5_col6\" class=\"data row5 col6\" >171</td>\n",
       "      <td id=\"T_f6336_row5_col7\" class=\"data row5 col7\" >54</td>\n",
       "      <td id=\"T_f6336_row5_col8\" class=\"data row5 col8\" >0</td>\n",
       "      <td id=\"T_f6336_row5_col9\" class=\"data row5 col9\" >0</td>\n",
       "      <td id=\"T_f6336_row5_col10\" class=\"data row5 col10\" >0</td>\n",
       "      <td id=\"T_f6336_row5_col11\" class=\"data row5 col11\" >0</td>\n",
       "      <td id=\"T_f6336_row5_col12\" class=\"data row5 col12\" >37</td>\n",
       "      <td id=\"T_f6336_row5_col13\" class=\"data row5 col13\" >177</td>\n",
       "      <td id=\"T_f6336_row5_col14\" class=\"data row5 col14\" >253</td>\n",
       "      <td id=\"T_f6336_row5_col15\" class=\"data row5 col15\" >188</td>\n",
       "      <td id=\"T_f6336_row5_col16\" class=\"data row5 col16\" >0</td>\n",
       "      <td id=\"T_f6336_row5_col17\" class=\"data row5 col17\" >0</td>\n",
       "      <td id=\"T_f6336_row5_col18\" class=\"data row5 col18\" >0</td>\n",
       "      <td id=\"T_f6336_row5_col19\" class=\"data row5 col19\" >0</td>\n",
       "      <td id=\"T_f6336_row5_col20\" class=\"data row5 col20\" >0</td>\n",
       "    </tr>\n",
       "    <tr>\n",
       "      <th id=\"T_f6336_level0_row6\" class=\"row_heading level0 row6\" >6</th>\n",
       "      <td id=\"T_f6336_row6_col0\" class=\"data row6 col0\" >0</td>\n",
       "      <td id=\"T_f6336_row6_col1\" class=\"data row6 col1\" >0</td>\n",
       "      <td id=\"T_f6336_row6_col2\" class=\"data row6 col2\" >0</td>\n",
       "      <td id=\"T_f6336_row6_col3\" class=\"data row6 col3\" >17</td>\n",
       "      <td id=\"T_f6336_row6_col4\" class=\"data row6 col4\" >151</td>\n",
       "      <td id=\"T_f6336_row6_col5\" class=\"data row6 col5\" >51</td>\n",
       "      <td id=\"T_f6336_row6_col6\" class=\"data row6 col6\" >0</td>\n",
       "      <td id=\"T_f6336_row6_col7\" class=\"data row6 col7\" >0</td>\n",
       "      <td id=\"T_f6336_row6_col8\" class=\"data row6 col8\" >0</td>\n",
       "      <td id=\"T_f6336_row6_col9\" class=\"data row6 col9\" >0</td>\n",
       "      <td id=\"T_f6336_row6_col10\" class=\"data row6 col10\" >0</td>\n",
       "      <td id=\"T_f6336_row6_col11\" class=\"data row6 col11\" >40</td>\n",
       "      <td id=\"T_f6336_row6_col12\" class=\"data row6 col12\" >229</td>\n",
       "      <td id=\"T_f6336_row6_col13\" class=\"data row6 col13\" >253</td>\n",
       "      <td id=\"T_f6336_row6_col14\" class=\"data row6 col14\" >253</td>\n",
       "      <td id=\"T_f6336_row6_col15\" class=\"data row6 col15\" >147</td>\n",
       "      <td id=\"T_f6336_row6_col16\" class=\"data row6 col16\" >0</td>\n",
       "      <td id=\"T_f6336_row6_col17\" class=\"data row6 col17\" >0</td>\n",
       "      <td id=\"T_f6336_row6_col18\" class=\"data row6 col18\" >0</td>\n",
       "      <td id=\"T_f6336_row6_col19\" class=\"data row6 col19\" >0</td>\n",
       "      <td id=\"T_f6336_row6_col20\" class=\"data row6 col20\" >0</td>\n",
       "    </tr>\n",
       "    <tr>\n",
       "      <th id=\"T_f6336_level0_row7\" class=\"row_heading level0 row7\" >7</th>\n",
       "      <td id=\"T_f6336_row7_col0\" class=\"data row7 col0\" >0</td>\n",
       "      <td id=\"T_f6336_row7_col1\" class=\"data row7 col1\" >0</td>\n",
       "      <td id=\"T_f6336_row7_col2\" class=\"data row7 col2\" >0</td>\n",
       "      <td id=\"T_f6336_row7_col3\" class=\"data row7 col3\" >0</td>\n",
       "      <td id=\"T_f6336_row7_col4\" class=\"data row7 col4\" >0</td>\n",
       "      <td id=\"T_f6336_row7_col5\" class=\"data row7 col5\" >0</td>\n",
       "      <td id=\"T_f6336_row7_col6\" class=\"data row7 col6\" >0</td>\n",
       "      <td id=\"T_f6336_row7_col7\" class=\"data row7 col7\" >0</td>\n",
       "      <td id=\"T_f6336_row7_col8\" class=\"data row7 col8\" >0</td>\n",
       "      <td id=\"T_f6336_row7_col9\" class=\"data row7 col9\" >83</td>\n",
       "      <td id=\"T_f6336_row7_col10\" class=\"data row7 col10\" >206</td>\n",
       "      <td id=\"T_f6336_row7_col11\" class=\"data row7 col11\" >237</td>\n",
       "      <td id=\"T_f6336_row7_col12\" class=\"data row7 col12\" >253</td>\n",
       "      <td id=\"T_f6336_row7_col13\" class=\"data row7 col13\" >253</td>\n",
       "      <td id=\"T_f6336_row7_col14\" class=\"data row7 col14\" >211</td>\n",
       "      <td id=\"T_f6336_row7_col15\" class=\"data row7 col15\" >8</td>\n",
       "      <td id=\"T_f6336_row7_col16\" class=\"data row7 col16\" >0</td>\n",
       "      <td id=\"T_f6336_row7_col17\" class=\"data row7 col17\" >0</td>\n",
       "      <td id=\"T_f6336_row7_col18\" class=\"data row7 col18\" >0</td>\n",
       "      <td id=\"T_f6336_row7_col19\" class=\"data row7 col19\" >0</td>\n",
       "      <td id=\"T_f6336_row7_col20\" class=\"data row7 col20\" >0</td>\n",
       "    </tr>\n",
       "    <tr>\n",
       "      <th id=\"T_f6336_level0_row8\" class=\"row_heading level0 row8\" >8</th>\n",
       "      <td id=\"T_f6336_row8_col0\" class=\"data row8 col0\" >0</td>\n",
       "      <td id=\"T_f6336_row8_col1\" class=\"data row8 col1\" >0</td>\n",
       "      <td id=\"T_f6336_row8_col2\" class=\"data row8 col2\" >0</td>\n",
       "      <td id=\"T_f6336_row8_col3\" class=\"data row8 col3\" >0</td>\n",
       "      <td id=\"T_f6336_row8_col4\" class=\"data row8 col4\" >0</td>\n",
       "      <td id=\"T_f6336_row8_col5\" class=\"data row8 col5\" >0</td>\n",
       "      <td id=\"T_f6336_row8_col6\" class=\"data row8 col6\" >70</td>\n",
       "      <td id=\"T_f6336_row8_col7\" class=\"data row8 col7\" >143</td>\n",
       "      <td id=\"T_f6336_row8_col8\" class=\"data row8 col8\" >243</td>\n",
       "      <td id=\"T_f6336_row8_col9\" class=\"data row8 col9\" >251</td>\n",
       "      <td id=\"T_f6336_row8_col10\" class=\"data row8 col10\" >253</td>\n",
       "      <td id=\"T_f6336_row8_col11\" class=\"data row8 col11\" >253</td>\n",
       "      <td id=\"T_f6336_row8_col12\" class=\"data row8 col12\" >253</td>\n",
       "      <td id=\"T_f6336_row8_col13\" class=\"data row8 col13\" >181</td>\n",
       "      <td id=\"T_f6336_row8_col14\" class=\"data row8 col14\" >50</td>\n",
       "      <td id=\"T_f6336_row8_col15\" class=\"data row8 col15\" >0</td>\n",
       "      <td id=\"T_f6336_row8_col16\" class=\"data row8 col16\" >0</td>\n",
       "      <td id=\"T_f6336_row8_col17\" class=\"data row8 col17\" >0</td>\n",
       "      <td id=\"T_f6336_row8_col18\" class=\"data row8 col18\" >0</td>\n",
       "      <td id=\"T_f6336_row8_col19\" class=\"data row8 col19\" >0</td>\n",
       "      <td id=\"T_f6336_row8_col20\" class=\"data row8 col20\" >0</td>\n",
       "    </tr>\n",
       "    <tr>\n",
       "      <th id=\"T_f6336_level0_row9\" class=\"row_heading level0 row9\" >9</th>\n",
       "      <td id=\"T_f6336_row9_col0\" class=\"data row9 col0\" >0</td>\n",
       "      <td id=\"T_f6336_row9_col1\" class=\"data row9 col1\" >0</td>\n",
       "      <td id=\"T_f6336_row9_col2\" class=\"data row9 col2\" >0</td>\n",
       "      <td id=\"T_f6336_row9_col3\" class=\"data row9 col3\" >0</td>\n",
       "      <td id=\"T_f6336_row9_col4\" class=\"data row9 col4\" >0</td>\n",
       "      <td id=\"T_f6336_row9_col5\" class=\"data row9 col5\" >4</td>\n",
       "      <td id=\"T_f6336_row9_col6\" class=\"data row9 col6\" >204</td>\n",
       "      <td id=\"T_f6336_row9_col7\" class=\"data row9 col7\" >253</td>\n",
       "      <td id=\"T_f6336_row9_col8\" class=\"data row9 col8\" >253</td>\n",
       "      <td id=\"T_f6336_row9_col9\" class=\"data row9 col9\" >253</td>\n",
       "      <td id=\"T_f6336_row9_col10\" class=\"data row9 col10\" >253</td>\n",
       "      <td id=\"T_f6336_row9_col11\" class=\"data row9 col11\" >253</td>\n",
       "      <td id=\"T_f6336_row9_col12\" class=\"data row9 col12\" >253</td>\n",
       "      <td id=\"T_f6336_row9_col13\" class=\"data row9 col13\" >106</td>\n",
       "      <td id=\"T_f6336_row9_col14\" class=\"data row9 col14\" >0</td>\n",
       "      <td id=\"T_f6336_row9_col15\" class=\"data row9 col15\" >0</td>\n",
       "      <td id=\"T_f6336_row9_col16\" class=\"data row9 col16\" >0</td>\n",
       "      <td id=\"T_f6336_row9_col17\" class=\"data row9 col17\" >0</td>\n",
       "      <td id=\"T_f6336_row9_col18\" class=\"data row9 col18\" >0</td>\n",
       "      <td id=\"T_f6336_row9_col19\" class=\"data row9 col19\" >0</td>\n",
       "      <td id=\"T_f6336_row9_col20\" class=\"data row9 col20\" >0</td>\n",
       "    </tr>\n",
       "    <tr>\n",
       "      <th id=\"T_f6336_level0_row10\" class=\"row_heading level0 row10\" >10</th>\n",
       "      <td id=\"T_f6336_row10_col0\" class=\"data row10 col0\" >0</td>\n",
       "      <td id=\"T_f6336_row10_col1\" class=\"data row10 col1\" >0</td>\n",
       "      <td id=\"T_f6336_row10_col2\" class=\"data row10 col2\" >0</td>\n",
       "      <td id=\"T_f6336_row10_col3\" class=\"data row10 col3\" >0</td>\n",
       "      <td id=\"T_f6336_row10_col4\" class=\"data row10 col4\" >0</td>\n",
       "      <td id=\"T_f6336_row10_col5\" class=\"data row10 col5\" >5</td>\n",
       "      <td id=\"T_f6336_row10_col6\" class=\"data row10 col6\" >235</td>\n",
       "      <td id=\"T_f6336_row10_col7\" class=\"data row10 col7\" >253</td>\n",
       "      <td id=\"T_f6336_row10_col8\" class=\"data row10 col8\" >253</td>\n",
       "      <td id=\"T_f6336_row10_col9\" class=\"data row10 col9\" >221</td>\n",
       "      <td id=\"T_f6336_row10_col10\" class=\"data row10 col10\" >167</td>\n",
       "      <td id=\"T_f6336_row10_col11\" class=\"data row10 col11\" >94</td>\n",
       "      <td id=\"T_f6336_row10_col12\" class=\"data row10 col12\" >250</td>\n",
       "      <td id=\"T_f6336_row10_col13\" class=\"data row10 col13\" >125</td>\n",
       "      <td id=\"T_f6336_row10_col14\" class=\"data row10 col14\" >0</td>\n",
       "      <td id=\"T_f6336_row10_col15\" class=\"data row10 col15\" >0</td>\n",
       "      <td id=\"T_f6336_row10_col16\" class=\"data row10 col16\" >0</td>\n",
       "      <td id=\"T_f6336_row10_col17\" class=\"data row10 col17\" >0</td>\n",
       "      <td id=\"T_f6336_row10_col18\" class=\"data row10 col18\" >0</td>\n",
       "      <td id=\"T_f6336_row10_col19\" class=\"data row10 col19\" >0</td>\n",
       "      <td id=\"T_f6336_row10_col20\" class=\"data row10 col20\" >0</td>\n",
       "    </tr>\n",
       "    <tr>\n",
       "      <th id=\"T_f6336_level0_row11\" class=\"row_heading level0 row11\" >11</th>\n",
       "      <td id=\"T_f6336_row11_col0\" class=\"data row11 col0\" >0</td>\n",
       "      <td id=\"T_f6336_row11_col1\" class=\"data row11 col1\" >0</td>\n",
       "      <td id=\"T_f6336_row11_col2\" class=\"data row11 col2\" >0</td>\n",
       "      <td id=\"T_f6336_row11_col3\" class=\"data row11 col3\" >0</td>\n",
       "      <td id=\"T_f6336_row11_col4\" class=\"data row11 col4\" >0</td>\n",
       "      <td id=\"T_f6336_row11_col5\" class=\"data row11 col5\" >0</td>\n",
       "      <td id=\"T_f6336_row11_col6\" class=\"data row11 col6\" >110</td>\n",
       "      <td id=\"T_f6336_row11_col7\" class=\"data row11 col7\" >175</td>\n",
       "      <td id=\"T_f6336_row11_col8\" class=\"data row11 col8\" >76</td>\n",
       "      <td id=\"T_f6336_row11_col9\" class=\"data row11 col9\" >18</td>\n",
       "      <td id=\"T_f6336_row11_col10\" class=\"data row11 col10\" >0</td>\n",
       "      <td id=\"T_f6336_row11_col11\" class=\"data row11 col11\" >0</td>\n",
       "      <td id=\"T_f6336_row11_col12\" class=\"data row11 col12\" >249</td>\n",
       "      <td id=\"T_f6336_row11_col13\" class=\"data row11 col13\" >244</td>\n",
       "      <td id=\"T_f6336_row11_col14\" class=\"data row11 col14\" >62</td>\n",
       "      <td id=\"T_f6336_row11_col15\" class=\"data row11 col15\" >0</td>\n",
       "      <td id=\"T_f6336_row11_col16\" class=\"data row11 col16\" >0</td>\n",
       "      <td id=\"T_f6336_row11_col17\" class=\"data row11 col17\" >0</td>\n",
       "      <td id=\"T_f6336_row11_col18\" class=\"data row11 col18\" >0</td>\n",
       "      <td id=\"T_f6336_row11_col19\" class=\"data row11 col19\" >0</td>\n",
       "      <td id=\"T_f6336_row11_col20\" class=\"data row11 col20\" >0</td>\n",
       "    </tr>\n",
       "    <tr>\n",
       "      <th id=\"T_f6336_level0_row12\" class=\"row_heading level0 row12\" >12</th>\n",
       "      <td id=\"T_f6336_row12_col0\" class=\"data row12 col0\" >0</td>\n",
       "      <td id=\"T_f6336_row12_col1\" class=\"data row12 col1\" >0</td>\n",
       "      <td id=\"T_f6336_row12_col2\" class=\"data row12 col2\" >0</td>\n",
       "      <td id=\"T_f6336_row12_col3\" class=\"data row12 col3\" >0</td>\n",
       "      <td id=\"T_f6336_row12_col4\" class=\"data row12 col4\" >0</td>\n",
       "      <td id=\"T_f6336_row12_col5\" class=\"data row12 col5\" >0</td>\n",
       "      <td id=\"T_f6336_row12_col6\" class=\"data row12 col6\" >0</td>\n",
       "      <td id=\"T_f6336_row12_col7\" class=\"data row12 col7\" >0</td>\n",
       "      <td id=\"T_f6336_row12_col8\" class=\"data row12 col8\" >0</td>\n",
       "      <td id=\"T_f6336_row12_col9\" class=\"data row12 col9\" >0</td>\n",
       "      <td id=\"T_f6336_row12_col10\" class=\"data row12 col10\" >0</td>\n",
       "      <td id=\"T_f6336_row12_col11\" class=\"data row12 col11\" >0</td>\n",
       "      <td id=\"T_f6336_row12_col12\" class=\"data row12 col12\" >213</td>\n",
       "      <td id=\"T_f6336_row12_col13\" class=\"data row12 col13\" >253</td>\n",
       "      <td id=\"T_f6336_row12_col14\" class=\"data row12 col14\" >124</td>\n",
       "      <td id=\"T_f6336_row12_col15\" class=\"data row12 col15\" >0</td>\n",
       "      <td id=\"T_f6336_row12_col16\" class=\"data row12 col16\" >0</td>\n",
       "      <td id=\"T_f6336_row12_col17\" class=\"data row12 col17\" >0</td>\n",
       "      <td id=\"T_f6336_row12_col18\" class=\"data row12 col18\" >0</td>\n",
       "      <td id=\"T_f6336_row12_col19\" class=\"data row12 col19\" >0</td>\n",
       "      <td id=\"T_f6336_row12_col20\" class=\"data row12 col20\" >0</td>\n",
       "    </tr>\n",
       "    <tr>\n",
       "      <th id=\"T_f6336_level0_row13\" class=\"row_heading level0 row13\" >13</th>\n",
       "      <td id=\"T_f6336_row13_col0\" class=\"data row13 col0\" >0</td>\n",
       "      <td id=\"T_f6336_row13_col1\" class=\"data row13 col1\" >0</td>\n",
       "      <td id=\"T_f6336_row13_col2\" class=\"data row13 col2\" >0</td>\n",
       "      <td id=\"T_f6336_row13_col3\" class=\"data row13 col3\" >0</td>\n",
       "      <td id=\"T_f6336_row13_col4\" class=\"data row13 col4\" >0</td>\n",
       "      <td id=\"T_f6336_row13_col5\" class=\"data row13 col5\" >0</td>\n",
       "      <td id=\"T_f6336_row13_col6\" class=\"data row13 col6\" >0</td>\n",
       "      <td id=\"T_f6336_row13_col7\" class=\"data row13 col7\" >0</td>\n",
       "      <td id=\"T_f6336_row13_col8\" class=\"data row13 col8\" >0</td>\n",
       "      <td id=\"T_f6336_row13_col9\" class=\"data row13 col9\" >0</td>\n",
       "      <td id=\"T_f6336_row13_col10\" class=\"data row13 col10\" >0</td>\n",
       "      <td id=\"T_f6336_row13_col11\" class=\"data row13 col11\" >0</td>\n",
       "      <td id=\"T_f6336_row13_col12\" class=\"data row13 col12\" >130</td>\n",
       "      <td id=\"T_f6336_row13_col13\" class=\"data row13 col13\" >253</td>\n",
       "      <td id=\"T_f6336_row13_col14\" class=\"data row13 col14\" >206</td>\n",
       "      <td id=\"T_f6336_row13_col15\" class=\"data row13 col15\" >0</td>\n",
       "      <td id=\"T_f6336_row13_col16\" class=\"data row13 col16\" >0</td>\n",
       "      <td id=\"T_f6336_row13_col17\" class=\"data row13 col17\" >0</td>\n",
       "      <td id=\"T_f6336_row13_col18\" class=\"data row13 col18\" >0</td>\n",
       "      <td id=\"T_f6336_row13_col19\" class=\"data row13 col19\" >0</td>\n",
       "      <td id=\"T_f6336_row13_col20\" class=\"data row13 col20\" >0</td>\n",
       "    </tr>\n",
       "  </tbody>\n",
       "</table>\n"
      ],
      "text/plain": [
       "<pandas.io.formats.style.Styler at 0x281f6c38990>"
      ]
     },
     "execution_count": 34,
     "metadata": {},
     "output_type": "execute_result"
    }
   ],
   "source": [
    "# Show how the image is created from the pixel values\n",
    "im3_t = tensor(im3)\n",
    "df = pd.DataFrame(im3_t[3:17,5:26])\n",
    "df.style.set_properties(**{'font-size':'6pt'}).background_gradient('Greys')"
   ]
  },
  {
   "cell_type": "code",
   "execution_count": 35,
   "metadata": {},
   "outputs": [
    {
     "data": {
      "text/plain": [
       "(6265, 6131)"
      ]
     },
     "execution_count": 35,
     "metadata": {},
     "output_type": "execute_result"
    }
   ],
   "source": [
    "# Create a tensor containing all of our 3s and 7s stacked together\n",
    "seven_tensors = [tensor(Image.open(x)) for x in sevens]\n",
    "three_tensors = [tensor(Image.open(x)) for x in threes]\n",
    "len(seven_tensors), len(three_tensors)"
   ]
  },
  {
   "cell_type": "code",
   "execution_count": 36,
   "metadata": {},
   "outputs": [
    {
     "data": {
      "image/png": "[encoded data removed]",
      "text/plain": [
       "<Figure size 100x100 with 1 Axes>"
      ]
     },
     "metadata": {},
     "output_type": "display_data"
    }
   ],
   "source": [
    "#Use show_image from fastai for displaying an image\n",
    "show_image(three_tensors[1]);"
   ]
  },
  {
   "cell_type": "code",
   "execution_count": 37,
   "metadata": {},
   "outputs": [
    {
     "data": {
      "text/plain": [
       "torch.Size([6265, 28, 28])"
      ]
     },
     "execution_count": 37,
     "metadata": {},
     "output_type": "execute_result"
    }
   ],
   "source": [
    "# Stack tensors and scaled it to 0-1\n",
    "stacked_sevens = torch.stack(seven_tensors).float()/255\n",
    "stacked_threes = torch.stack(three_tensors).float()/255\n",
    "stacked_sevens.shape"
   ]
  },
  {
   "cell_type": "code",
   "execution_count": 38,
   "metadata": {},
   "outputs": [
    {
     "data": {
      "text/plain": [
       "<Axes: >"
      ]
     },
     "execution_count": 38,
     "metadata": {},
     "output_type": "execute_result"
    },
    {
     "data": {
      "image/png": "[encoded data removed]",
      "text/plain": [
       "<Figure size 100x100 with 1 Axes>"
      ]
     },
     "metadata": {},
     "output_type": "display_data"
    }
   ],
   "source": [
    "#Ideal 3\n",
    "mean3 = stacked_threes.mean(0)\n",
    "show_image(mean3)"
   ]
  },
  {
   "cell_type": "code",
   "execution_count": 39,
   "metadata": {},
   "outputs": [
    {
     "data": {
      "text/plain": [
       "<Axes: >"
      ]
     },
     "execution_count": 39,
     "metadata": {},
     "output_type": "execute_result"
    },
    {
     "data": {
      "image/png": "[encoded data removed]",
      "text/plain": [
       "<Figure size 100x100 with 1 Axes>"
      ]
     },
     "metadata": {},
     "output_type": "display_data"
    }
   ],
   "source": [
    "#Ideal 7\n",
    "mean7 = stacked_sevens.mean(0)\n",
    "show_image(mean7)"
   ]
  },
  {
   "cell_type": "code",
   "execution_count": 40,
   "metadata": {},
   "outputs": [
    {
     "data": {
      "image/png": "[encoded data removed]",
      "text/plain": [
       "<Figure size 100x100 with 1 Axes>"
      ]
     },
     "metadata": {},
     "output_type": "display_data"
    }
   ],
   "source": [
    "a_3 = stacked_threes[1]\n",
    "show_image(a_3);"
   ]
  },
  {
   "cell_type": "code",
   "execution_count": 41,
   "metadata": {},
   "outputs": [
    {
     "data": {
      "text/plain": [
       "(tensor(0.1114), tensor(0.3983))"
      ]
     },
     "execution_count": 41,
     "metadata": {},
     "output_type": "execute_result"
    }
   ],
   "source": [
    "#loss to a certain mean\n",
    "F.l1_loss(a_3.float(),mean3), F.l1_loss(a_3,mean7).sqrt()"
   ]
  },
  {
   "cell_type": "code",
   "execution_count": 42,
   "metadata": {},
   "outputs": [
    {
     "data": {
      "text/plain": [
       "(tensor(0.0408), tensor(0.3021))"
      ]
     },
     "execution_count": 42,
     "metadata": {},
     "output_type": "execute_result"
    }
   ],
   "source": [
    "F.mse_loss(a_3.float(),mean3), F.mse_loss(a_3,mean7).sqrt()"
   ]
  },
  {
   "cell_type": "code",
   "execution_count": 43,
   "metadata": {},
   "outputs": [
    {
     "data": {
      "text/plain": [
       "(torch.Size([1010, 28, 28]), torch.Size([1028, 28, 28]))"
      ]
     },
     "execution_count": 43,
     "metadata": {},
     "output_type": "execute_result"
    }
   ],
   "source": [
    "#Do the same for validation data\n",
    "valid_3_tens = torch.stack([tensor(Image.open(o)) for o in (path/'valid'/'3').ls()])\n",
    "valid_3_tens = valid_3_tens.float()/255\n",
    "valid_7_tens = torch.stack([tensor(Image.open(o)) for o in (path/'valid'/'7').ls()])\n",
    "valid_7_tens = valid_7_tens.float()/255\n",
    "valid_3_tens.shape,valid_7_tens.shape"
   ]
  },
  {
   "cell_type": "code",
   "execution_count": 44,
   "metadata": {},
   "outputs": [],
   "source": [
    "#Define a error distance\n",
    "def mnist_distance(x,y):\n",
    "    return (x-y).abs().mean((-1,-2))"
   ]
  },
  {
   "cell_type": "code",
   "execution_count": 45,
   "metadata": {},
   "outputs": [
    {
     "data": {
      "text/plain": [
       "(tensor([0.1280, 0.1623, 0.1242,  ..., 0.1508, 0.1263, 0.1260]),\n",
       " torch.Size([1010]))"
      ]
     },
     "execution_count": 45,
     "metadata": {},
     "output_type": "execute_result"
    }
   ],
   "source": [
    "#Distance to the mean of each tensor\n",
    "valid_3_dist = mnist_distance(valid_3_tens, mean3)\n",
    "valid_3_dist, valid_3_dist.shape"
   ]
  },
  {
   "cell_type": "code",
   "execution_count": 46,
   "metadata": {},
   "outputs": [
    {
     "data": {
      "text/plain": [
       "tensor(True)"
      ]
     },
     "execution_count": 46,
     "metadata": {},
     "output_type": "execute_result"
    }
   ],
   "source": [
    "#define a function for desicion making\n",
    "def is_3(x):\n",
    "    return mnist_distance(x,mean3) < mnist_distance(x,mean7)\n",
    "\n",
    "is_3(a_3)"
   ]
  },
  {
   "cell_type": "code",
   "execution_count": 47,
   "metadata": {},
   "outputs": [
    {
     "data": {
      "text/plain": [
       "(tensor(0.9168), tensor(0.9854), tensor(0.9511))"
      ]
     },
     "execution_count": 47,
     "metadata": {},
     "output_type": "execute_result"
    }
   ],
   "source": [
    "#Calculate accuaracy\n",
    "accuracy_3s = is_3(valid_3_tens).float().mean()\n",
    "accuracy_7s = 1 - is_3(valid_7_tens).float().mean()\n",
    "\n",
    "accuracy_3s,accuracy_7s,(accuracy_3s+accuracy_7s)/2"
   ]
  },
  {
   "cell_type": "markdown",
   "metadata": {},
   "source": [
    "# Using SGD"
   ]
  },
  {
   "cell_type": "code",
   "execution_count": 51,
   "metadata": {},
   "outputs": [
    {
     "data": {
      "text/plain": [
       "(torch.Size([12396, 784]), torch.Size([12396, 1]))"
      ]
     },
     "execution_count": 51,
     "metadata": {},
     "output_type": "execute_result"
    }
   ],
   "source": [
    "#Concatenate all data in one tensor\n",
    "train_x = torch.cat([stacked_threes, stacked_sevens]).view(-1,28*28)\n",
    "train_y = tensor([1]*len(threes) + [0]*len(sevens)).unsqueeze(1)\n",
    "\n",
    "valid_x = torch.cat([valid_3_tens, valid_7_tens]).view(-1, 28*28)\n",
    "valid_y = tensor([1]*len(valid_3_tens) + [0]*len(valid_7_tens)).unsqueeze(1)\n",
    "\n",
    "train_x.shape, train_y.shape"
   ]
  },
  {
   "cell_type": "code",
   "execution_count": 52,
   "metadata": {},
   "outputs": [
    {
     "data": {
      "text/plain": [
       "(torch.Size([784]), tensor([1]))"
      ]
     },
     "execution_count": 52,
     "metadata": {},
     "output_type": "execute_result"
    }
   ],
   "source": [
    "#Dataset in PyTorch is required to return a tuple of (x,y) when indexed.\n",
    "\n",
    "dset = list(zip(train_x, train_y))\n",
    "valid_dset = list(zip(valid_x,valid_y))\n",
    "x,y = dset[0]\n",
    "x.shape, y"
   ]
  },
  {
   "cell_type": "code",
   "execution_count": 53,
   "metadata": {},
   "outputs": [],
   "source": [
    "#Initialize weights and bias\n",
    "def init_params(size, std = 1.0):\n",
    "    return (torch.randn(size)*std).requires_grad_()\n",
    "\n",
    "weights = init_params((28*28,1))\n",
    "bias = init_params(1)\n"
   ]
  },
  {
   "cell_type": "code",
   "execution_count": 54,
   "metadata": {},
   "outputs": [
    {
     "data": {
      "text/plain": [
       "tensor([[ 9.2983],\n",
       "        [ 9.0767],\n",
       "        [11.2921],\n",
       "        ...,\n",
       "        [-0.9994],\n",
       "        [ 6.8896],\n",
       "        [ 8.2903]], grad_fn=<AddBackward0>)"
      ]
     },
     "execution_count": 54,
     "metadata": {},
     "output_type": "execute_result"
    }
   ],
   "source": [
    "#Define linear function\n",
    "def linear1(xb):\n",
    "    return xb@weights + bias\n",
    "\n",
    "preds = linear1(train_x)\n",
    "preds"
   ]
  },
  {
   "cell_type": "code",
   "execution_count": 55,
   "metadata": {},
   "outputs": [
    {
     "data": {
      "text/plain": [
       "tensor([[ True],\n",
       "        [ True],\n",
       "        [ True],\n",
       "        ...,\n",
       "        [ True],\n",
       "        [False],\n",
       "        [False]])"
      ]
     },
     "execution_count": 55,
     "metadata": {},
     "output_type": "execute_result"
    }
   ],
   "source": [
    "#For decide if an output represents a 3 or a 7, we can just check whether it’s greater than 0\n",
    "corrects = (preds>0.0).float() ==train_y\n",
    "corrects"
   ]
  },
  {
   "cell_type": "code",
   "execution_count": 56,
   "metadata": {},
   "outputs": [
    {
     "data": {
      "text/plain": [
       "0.5230719447135925"
      ]
     },
     "execution_count": 56,
     "metadata": {},
     "output_type": "execute_result"
    }
   ],
   "source": [
    "#Accuaracy\n",
    "corrects.float().mean().item()"
   ]
  },
  {
   "cell_type": "code",
   "execution_count": 93,
   "metadata": {},
   "outputs": [],
   "source": [
    "#Sigmoid function\n",
    "def sigmoid(x): \n",
    "    return 1/(1+torch.exp(-x))\n",
    "\n",
    "#Loss function\n",
    "def mnist_loss(predictions, targets):\n",
    "    predictions = predictions.sigmoid()\n",
    "    return torch.where(targets==1, 1-predictions, predictions).mean()\n",
    "\n",
    "#Caculate gradients\n",
    "def calc_grad(xb,yb,md):\n",
    "    preds = md(xb)\n",
    "    loss = mnist_loss(preds,yb)\n",
    "    loss.backward()\n"
   ]
  },
  {
   "cell_type": "code",
   "execution_count": 63,
   "metadata": {},
   "outputs": [],
   "source": [
    "#Initialize weights\n",
    "weights = init_params((28*28,1))\n",
    "bias = init_params(1)\n",
    "\n",
    "#Dataloader\n",
    "train_dl = DataLoader(dset, batch_size=256)\n",
    "valid_dl = DataLoader(valid_dset, batch_size=256)"
   ]
  },
  {
   "cell_type": "code",
   "execution_count": 64,
   "metadata": {},
   "outputs": [],
   "source": [
    "# Train epoch\n",
    "def train_epoch(model, lr, params):\n",
    "    for xb, yb in train_dl:\n",
    "        calc_grad(xb, yb, model)\n",
    "        for p in params:\n",
    "            p.data -= p.grad*lr\n",
    "            p.grad.zero_()\n",
    "\n",
    "#Accuaracy\n",
    "def batch_accuracy(xb,yb):\n",
    "    preds = xb.sigmoid()\n",
    "    correct = (preds>0.5)==yb\n",
    "    return correct.float().mean()\n",
    "        \n",
    "#Put the batches together\n",
    "def validate_epoch(model):\n",
    "    accs = [batch_accuracy(model(xb), yb) for xb,yb in valid_dl]\n",
    "    return round(torch.stack(accs).mean().item(), 4)"
   ]
  },
  {
   "cell_type": "code",
   "execution_count": 65,
   "metadata": {},
   "outputs": [
    {
     "data": {
      "text/plain": [
       "0.5334"
      ]
     },
     "execution_count": 65,
     "metadata": {},
     "output_type": "execute_result"
    }
   ],
   "source": [
    "#Do 1 epoch training!\n",
    "lr = 0.1\n",
    "params = weights,bias\n",
    "train_epoch(linear1, lr, params)\n",
    "validate_epoch(linear1)"
   ]
  },
  {
   "cell_type": "code",
   "execution_count": 66,
   "metadata": {},
   "outputs": [
    {
     "name": "stdout",
     "output_type": "stream",
     "text": [
      "0.6395 0.7098 0.762 0.8008 0.8322 0.8499 0.8587 0.8729 0.8832 0.8936 0.8975 0.9038 0.9087 0.9136 0.9166 0.9185 0.921 0.9244 0.9264 0.9308 "
     ]
    }
   ],
   "source": [
    "#Do 20 epoch training!\n",
    "for i in range(20):\n",
    "    train_epoch(linear1, lr, params)\n",
    "    print(validate_epoch(linear1), end=' ')"
   ]
  },
  {
   "cell_type": "markdown",
   "metadata": {},
   "source": [
    "# Optimizer"
   ]
  },
  {
   "cell_type": "code",
   "execution_count": 109,
   "metadata": {},
   "outputs": [],
   "source": [
    "#Define a basic optimizer\n",
    "class BasicOptim:\n",
    "    def __init__(self, params, lr):\n",
    "        self.params = list(params)\n",
    "        self.lr = lr\n",
    "        \n",
    "    def step(self, *args, **kwargs):\n",
    "        for p in self.params:\n",
    "            p.data -= p.grad.data * self.lr\n",
    "\n",
    "    def zero_grad(self, *args, **kwargs):\n",
    "        for p in self.params:\n",
    "            p.grad = None\n"
   ]
  },
  {
   "cell_type": "code",
   "execution_count": 110,
   "metadata": {},
   "outputs": [],
   "source": [
    "#Linear model\n",
    "linear_model = nn.Linear(28*28,1)\n",
    "#Create an object optimizer\n",
    "opt = BasicOptim(linear_model.parameters(), 1.0)\n",
    "\n",
    "#define simplyfied train_epoch\n",
    "def train_epoch(model):\n",
    "    for xb,yb in train_dl:\n",
    "        calc_grad(xb, yb, model)\n",
    "        opt.step()\n",
    "        opt.zero_grad()\n",
    "\n",
    "#Train function for epochs\n",
    "def train_model(model, epochs):\n",
    "    for i in range(epochs):\n",
    "        train_epoch(model)\n",
    "        print(validate_epoch(model), end=' ')"
   ]
  },
  {
   "cell_type": "code",
   "execution_count": 111,
   "metadata": {},
   "outputs": [
    {
     "name": "stdout",
     "output_type": "stream",
     "text": [
      "0.4932 0.7856 0.8545 0.916 0.9351 0.9487 0.9575 0.9634 0.9653 0.9678 0.9707 0.9717 0.9746 0.9746 0.9761 0.9765 0.9775 0.978 0.978 0.9785 "
     ]
    }
   ],
   "source": [
    "train_model(linear_model, 20)"
   ]
  },
  {
   "cell_type": "code",
   "execution_count": 114,
   "metadata": {},
   "outputs": [
    {
     "name": "stdout",
     "output_type": "stream",
     "text": [
      "0.5493 0.8711 0.9346 0.9546 0.9619 0.9638 0.9653 0.9673 0.9678 0.9692 0.9692 0.9702 0.9712 0.9717 0.9717 0.9717 0.9717 0.9717 0.9717 0.9717 "
     ]
    }
   ],
   "source": [
    "#Using SGD\n",
    "\n",
    "linear_model = nn.Linear(28*28,1)\n",
    "opt = SGD(linear_model.parameters(), lr)\n",
    "train_model(linear_model, 20)"
   ]
  },
  {
   "cell_type": "code",
   "execution_count": 122,
   "metadata": {},
   "outputs": [
    {
     "data": {
      "text/html": [
       "\n",
       "<style>\n",
       "    /* Turns off some styling */\n",
       "    progress {\n",
       "        /* gets rid of default border in Firefox and Opera. */\n",
       "        border: none;\n",
       "        /* Needs to be in here for Safari polyfill so background images work as expected. */\n",
       "        background-size: auto;\n",
       "    }\n",
       "    progress:not([value]), progress:not([value])::-webkit-progress-bar {\n",
       "        background: repeating-linear-gradient(45deg, #7e7e7e, #7e7e7e 10px, #5c5c5c 10px, #5c5c5c 20px);\n",
       "    }\n",
       "    .progress-bar-interrupted, .progress-bar-interrupted::-webkit-progress-bar {\n",
       "        background: #F44336;\n",
       "    }\n",
       "</style>\n"
      ],
      "text/plain": [
       "<IPython.core.display.HTML object>"
      ]
     },
     "metadata": {},
     "output_type": "display_data"
    },
    {
     "data": {
      "text/html": [
       "<table border=\"1\" class=\"dataframe\">\n",
       "  <thead>\n",
       "    <tr style=\"text-align: left;\">\n",
       "      <th>epoch</th>\n",
       "      <th>train_loss</th>\n",
       "      <th>valid_loss</th>\n",
       "      <th>batch_accuracy</th>\n",
       "      <th>time</th>\n",
       "    </tr>\n",
       "  </thead>\n",
       "  <tbody>\n",
       "    <tr>\n",
       "      <td>0</td>\n",
       "      <td>0.238069</td>\n",
       "      <td>0.371607</td>\n",
       "      <td>0.543180</td>\n",
       "      <td>00:00</td>\n",
       "    </tr>\n",
       "    <tr>\n",
       "      <td>1</td>\n",
       "      <td>0.127905</td>\n",
       "      <td>0.187575</td>\n",
       "      <td>0.864082</td>\n",
       "      <td>00:00</td>\n",
       "    </tr>\n",
       "    <tr>\n",
       "      <td>2</td>\n",
       "      <td>0.086055</td>\n",
       "      <td>0.109599</td>\n",
       "      <td>0.933759</td>\n",
       "      <td>00:00</td>\n",
       "    </tr>\n",
       "    <tr>\n",
       "      <td>3</td>\n",
       "      <td>0.066476</td>\n",
       "      <td>0.081245</td>\n",
       "      <td>0.954367</td>\n",
       "      <td>00:00</td>\n",
       "    </tr>\n",
       "    <tr>\n",
       "      <td>4</td>\n",
       "      <td>0.056109</td>\n",
       "      <td>0.067490</td>\n",
       "      <td>0.963690</td>\n",
       "      <td>00:00</td>\n",
       "    </tr>\n",
       "    <tr>\n",
       "      <td>5</td>\n",
       "      <td>0.049965</td>\n",
       "      <td>0.059459</td>\n",
       "      <td>0.963690</td>\n",
       "      <td>00:00</td>\n",
       "    </tr>\n",
       "    <tr>\n",
       "      <td>6</td>\n",
       "      <td>0.045924</td>\n",
       "      <td>0.054188</td>\n",
       "      <td>0.963690</td>\n",
       "      <td>00:00</td>\n",
       "    </tr>\n",
       "    <tr>\n",
       "      <td>7</td>\n",
       "      <td>0.043020</td>\n",
       "      <td>0.050444</td>\n",
       "      <td>0.966143</td>\n",
       "      <td>00:00</td>\n",
       "    </tr>\n",
       "    <tr>\n",
       "      <td>8</td>\n",
       "      <td>0.040789</td>\n",
       "      <td>0.047632</td>\n",
       "      <td>0.966634</td>\n",
       "      <td>00:00</td>\n",
       "    </tr>\n",
       "    <tr>\n",
       "      <td>9</td>\n",
       "      <td>0.038991</td>\n",
       "      <td>0.045430</td>\n",
       "      <td>0.969087</td>\n",
       "      <td>00:00</td>\n",
       "    </tr>\n",
       "    <tr>\n",
       "      <td>10</td>\n",
       "      <td>0.037492</td>\n",
       "      <td>0.043651</td>\n",
       "      <td>0.970069</td>\n",
       "      <td>00:00</td>\n",
       "    </tr>\n",
       "    <tr>\n",
       "      <td>11</td>\n",
       "      <td>0.036212</td>\n",
       "      <td>0.042177</td>\n",
       "      <td>0.970559</td>\n",
       "      <td>00:00</td>\n",
       "    </tr>\n",
       "    <tr>\n",
       "      <td>12</td>\n",
       "      <td>0.035099</td>\n",
       "      <td>0.040930</td>\n",
       "      <td>0.970559</td>\n",
       "      <td>00:00</td>\n",
       "    </tr>\n",
       "    <tr>\n",
       "      <td>13</td>\n",
       "      <td>0.034119</td>\n",
       "      <td>0.039857</td>\n",
       "      <td>0.971050</td>\n",
       "      <td>00:00</td>\n",
       "    </tr>\n",
       "    <tr>\n",
       "      <td>14</td>\n",
       "      <td>0.033245</td>\n",
       "      <td>0.038921</td>\n",
       "      <td>0.971541</td>\n",
       "      <td>00:00</td>\n",
       "    </tr>\n",
       "    <tr>\n",
       "      <td>15</td>\n",
       "      <td>0.032461</td>\n",
       "      <td>0.038095</td>\n",
       "      <td>0.971541</td>\n",
       "      <td>00:00</td>\n",
       "    </tr>\n",
       "    <tr>\n",
       "      <td>16</td>\n",
       "      <td>0.031750</td>\n",
       "      <td>0.037358</td>\n",
       "      <td>0.971541</td>\n",
       "      <td>00:00</td>\n",
       "    </tr>\n",
       "    <tr>\n",
       "      <td>17</td>\n",
       "      <td>0.031103</td>\n",
       "      <td>0.036695</td>\n",
       "      <td>0.971541</td>\n",
       "      <td>00:00</td>\n",
       "    </tr>\n",
       "    <tr>\n",
       "      <td>18</td>\n",
       "      <td>0.030510</td>\n",
       "      <td>0.036093</td>\n",
       "      <td>0.971541</td>\n",
       "      <td>00:00</td>\n",
       "    </tr>\n",
       "    <tr>\n",
       "      <td>19</td>\n",
       "      <td>0.029963</td>\n",
       "      <td>0.035544</td>\n",
       "      <td>0.972031</td>\n",
       "      <td>00:00</td>\n",
       "    </tr>\n",
       "  </tbody>\n",
       "</table>"
      ],
      "text/plain": [
       "<IPython.core.display.HTML object>"
      ]
     },
     "metadata": {},
     "output_type": "display_data"
    }
   ],
   "source": [
    "#passing in our training and validation DataLoaders\n",
    "train_dl = DataLoader(dset, batch_size=256)\n",
    "valid_dl = DataLoader(valid_dset, batch_size=256)\n",
    "dls = DataLoaders(train_dl, valid_dl)\n",
    "\n",
    "#create a Learner\n",
    "learn = Learner(dls, nn.Linear(28*28,1), opt_func=SGD, loss_func=mnist_loss, metrics=batch_accuracy)\n",
    "learn.fit(20, lr=lr)"
   ]
  },
  {
   "cell_type": "markdown",
   "metadata": {},
   "source": [
    "# Using Neural networks and Non-Linearity"
   ]
  },
  {
   "cell_type": "code",
   "execution_count": 124,
   "metadata": {},
   "outputs": [
    {
     "data": {
      "text/html": [
       "\n",
       "<style>\n",
       "    /* Turns off some styling */\n",
       "    progress {\n",
       "        /* gets rid of default border in Firefox and Opera. */\n",
       "        border: none;\n",
       "        /* Needs to be in here for Safari polyfill so background images work as expected. */\n",
       "        background-size: auto;\n",
       "    }\n",
       "    progress:not([value]), progress:not([value])::-webkit-progress-bar {\n",
       "        background: repeating-linear-gradient(45deg, #7e7e7e, #7e7e7e 10px, #5c5c5c 10px, #5c5c5c 20px);\n",
       "    }\n",
       "    .progress-bar-interrupted, .progress-bar-interrupted::-webkit-progress-bar {\n",
       "        background: #F44336;\n",
       "    }\n",
       "</style>\n"
      ],
      "text/plain": [
       "<IPython.core.display.HTML object>"
      ]
     },
     "metadata": {},
     "output_type": "display_data"
    },
    {
     "data": {
      "text/html": [
       "<table border=\"1\" class=\"dataframe\">\n",
       "  <thead>\n",
       "    <tr style=\"text-align: left;\">\n",
       "      <th>epoch</th>\n",
       "      <th>train_loss</th>\n",
       "      <th>valid_loss</th>\n",
       "      <th>batch_accuracy</th>\n",
       "      <th>time</th>\n",
       "    </tr>\n",
       "  </thead>\n",
       "  <tbody>\n",
       "    <tr>\n",
       "      <td>0</td>\n",
       "      <td>0.329059</td>\n",
       "      <td>0.418432</td>\n",
       "      <td>0.504416</td>\n",
       "      <td>00:00</td>\n",
       "    </tr>\n",
       "    <tr>\n",
       "      <td>1</td>\n",
       "      <td>0.153167</td>\n",
       "      <td>0.235826</td>\n",
       "      <td>0.793916</td>\n",
       "      <td>00:00</td>\n",
       "    </tr>\n",
       "    <tr>\n",
       "      <td>2</td>\n",
       "      <td>0.083861</td>\n",
       "      <td>0.116477</td>\n",
       "      <td>0.916094</td>\n",
       "      <td>00:00</td>\n",
       "    </tr>\n",
       "    <tr>\n",
       "      <td>3</td>\n",
       "      <td>0.054519</td>\n",
       "      <td>0.078129</td>\n",
       "      <td>0.941609</td>\n",
       "      <td>00:00</td>\n",
       "    </tr>\n",
       "    <tr>\n",
       "      <td>4</td>\n",
       "      <td>0.041034</td>\n",
       "      <td>0.060953</td>\n",
       "      <td>0.958292</td>\n",
       "      <td>00:00</td>\n",
       "    </tr>\n",
       "    <tr>\n",
       "      <td>5</td>\n",
       "      <td>0.034223</td>\n",
       "      <td>0.051379</td>\n",
       "      <td>0.964671</td>\n",
       "      <td>00:00</td>\n",
       "    </tr>\n",
       "    <tr>\n",
       "      <td>6</td>\n",
       "      <td>0.030351</td>\n",
       "      <td>0.045380</td>\n",
       "      <td>0.965653</td>\n",
       "      <td>00:00</td>\n",
       "    </tr>\n",
       "    <tr>\n",
       "      <td>7</td>\n",
       "      <td>0.027859</td>\n",
       "      <td>0.041280</td>\n",
       "      <td>0.967615</td>\n",
       "      <td>00:00</td>\n",
       "    </tr>\n",
       "    <tr>\n",
       "      <td>8</td>\n",
       "      <td>0.026073</td>\n",
       "      <td>0.038299</td>\n",
       "      <td>0.970069</td>\n",
       "      <td>00:00</td>\n",
       "    </tr>\n",
       "    <tr>\n",
       "      <td>9</td>\n",
       "      <td>0.024695</td>\n",
       "      <td>0.036021</td>\n",
       "      <td>0.971050</td>\n",
       "      <td>00:00</td>\n",
       "    </tr>\n",
       "    <tr>\n",
       "      <td>10</td>\n",
       "      <td>0.023578</td>\n",
       "      <td>0.034212</td>\n",
       "      <td>0.973013</td>\n",
       "      <td>00:00</td>\n",
       "    </tr>\n",
       "    <tr>\n",
       "      <td>11</td>\n",
       "      <td>0.022645</td>\n",
       "      <td>0.032729</td>\n",
       "      <td>0.973013</td>\n",
       "      <td>00:00</td>\n",
       "    </tr>\n",
       "    <tr>\n",
       "      <td>12</td>\n",
       "      <td>0.021850</td>\n",
       "      <td>0.031481</td>\n",
       "      <td>0.973503</td>\n",
       "      <td>00:00</td>\n",
       "    </tr>\n",
       "    <tr>\n",
       "      <td>13</td>\n",
       "      <td>0.021160</td>\n",
       "      <td>0.030409</td>\n",
       "      <td>0.974485</td>\n",
       "      <td>00:00</td>\n",
       "    </tr>\n",
       "    <tr>\n",
       "      <td>14</td>\n",
       "      <td>0.020556</td>\n",
       "      <td>0.029473</td>\n",
       "      <td>0.975466</td>\n",
       "      <td>00:00</td>\n",
       "    </tr>\n",
       "    <tr>\n",
       "      <td>15</td>\n",
       "      <td>0.020021</td>\n",
       "      <td>0.028647</td>\n",
       "      <td>0.975957</td>\n",
       "      <td>00:00</td>\n",
       "    </tr>\n",
       "    <tr>\n",
       "      <td>16</td>\n",
       "      <td>0.019542</td>\n",
       "      <td>0.027911</td>\n",
       "      <td>0.976938</td>\n",
       "      <td>00:00</td>\n",
       "    </tr>\n",
       "    <tr>\n",
       "      <td>17</td>\n",
       "      <td>0.019110</td>\n",
       "      <td>0.027250</td>\n",
       "      <td>0.977429</td>\n",
       "      <td>00:00</td>\n",
       "    </tr>\n",
       "    <tr>\n",
       "      <td>18</td>\n",
       "      <td>0.018718</td>\n",
       "      <td>0.026652</td>\n",
       "      <td>0.977429</td>\n",
       "      <td>00:00</td>\n",
       "    </tr>\n",
       "    <tr>\n",
       "      <td>19</td>\n",
       "      <td>0.018360</td>\n",
       "      <td>0.026109</td>\n",
       "      <td>0.977920</td>\n",
       "      <td>00:00</td>\n",
       "    </tr>\n",
       "    <tr>\n",
       "      <td>20</td>\n",
       "      <td>0.018031</td>\n",
       "      <td>0.025614</td>\n",
       "      <td>0.978410</td>\n",
       "      <td>00:00</td>\n",
       "    </tr>\n",
       "    <tr>\n",
       "      <td>21</td>\n",
       "      <td>0.017727</td>\n",
       "      <td>0.025161</td>\n",
       "      <td>0.978410</td>\n",
       "      <td>00:00</td>\n",
       "    </tr>\n",
       "    <tr>\n",
       "      <td>22</td>\n",
       "      <td>0.017444</td>\n",
       "      <td>0.024745</td>\n",
       "      <td>0.978410</td>\n",
       "      <td>00:00</td>\n",
       "    </tr>\n",
       "    <tr>\n",
       "      <td>23</td>\n",
       "      <td>0.017181</td>\n",
       "      <td>0.024361</td>\n",
       "      <td>0.979392</td>\n",
       "      <td>00:00</td>\n",
       "    </tr>\n",
       "    <tr>\n",
       "      <td>24</td>\n",
       "      <td>0.016935</td>\n",
       "      <td>0.024006</td>\n",
       "      <td>0.979882</td>\n",
       "      <td>00:00</td>\n",
       "    </tr>\n",
       "    <tr>\n",
       "      <td>25</td>\n",
       "      <td>0.016704</td>\n",
       "      <td>0.023676</td>\n",
       "      <td>0.980373</td>\n",
       "      <td>00:00</td>\n",
       "    </tr>\n",
       "    <tr>\n",
       "      <td>26</td>\n",
       "      <td>0.016486</td>\n",
       "      <td>0.023369</td>\n",
       "      <td>0.980373</td>\n",
       "      <td>00:00</td>\n",
       "    </tr>\n",
       "    <tr>\n",
       "      <td>27</td>\n",
       "      <td>0.016279</td>\n",
       "      <td>0.023083</td>\n",
       "      <td>0.980373</td>\n",
       "      <td>00:00</td>\n",
       "    </tr>\n",
       "    <tr>\n",
       "      <td>28</td>\n",
       "      <td>0.016084</td>\n",
       "      <td>0.022816</td>\n",
       "      <td>0.981354</td>\n",
       "      <td>00:00</td>\n",
       "    </tr>\n",
       "    <tr>\n",
       "      <td>29</td>\n",
       "      <td>0.015899</td>\n",
       "      <td>0.022567</td>\n",
       "      <td>0.981354</td>\n",
       "      <td>00:00</td>\n",
       "    </tr>\n",
       "    <tr>\n",
       "      <td>30</td>\n",
       "      <td>0.015722</td>\n",
       "      <td>0.022334</td>\n",
       "      <td>0.981845</td>\n",
       "      <td>00:00</td>\n",
       "    </tr>\n",
       "    <tr>\n",
       "      <td>31</td>\n",
       "      <td>0.015554</td>\n",
       "      <td>0.022116</td>\n",
       "      <td>0.982336</td>\n",
       "      <td>00:00</td>\n",
       "    </tr>\n",
       "    <tr>\n",
       "      <td>32</td>\n",
       "      <td>0.015393</td>\n",
       "      <td>0.021911</td>\n",
       "      <td>0.982336</td>\n",
       "      <td>00:00</td>\n",
       "    </tr>\n",
       "    <tr>\n",
       "      <td>33</td>\n",
       "      <td>0.015239</td>\n",
       "      <td>0.021718</td>\n",
       "      <td>0.982826</td>\n",
       "      <td>00:00</td>\n",
       "    </tr>\n",
       "    <tr>\n",
       "      <td>34</td>\n",
       "      <td>0.015092</td>\n",
       "      <td>0.021537</td>\n",
       "      <td>0.983317</td>\n",
       "      <td>00:00</td>\n",
       "    </tr>\n",
       "    <tr>\n",
       "      <td>35</td>\n",
       "      <td>0.014950</td>\n",
       "      <td>0.021366</td>\n",
       "      <td>0.982826</td>\n",
       "      <td>00:00</td>\n",
       "    </tr>\n",
       "    <tr>\n",
       "      <td>36</td>\n",
       "      <td>0.014814</td>\n",
       "      <td>0.021205</td>\n",
       "      <td>0.982826</td>\n",
       "      <td>00:00</td>\n",
       "    </tr>\n",
       "    <tr>\n",
       "      <td>37</td>\n",
       "      <td>0.014683</td>\n",
       "      <td>0.021053</td>\n",
       "      <td>0.983317</td>\n",
       "      <td>00:00</td>\n",
       "    </tr>\n",
       "    <tr>\n",
       "      <td>38</td>\n",
       "      <td>0.014557</td>\n",
       "      <td>0.020909</td>\n",
       "      <td>0.983317</td>\n",
       "      <td>00:00</td>\n",
       "    </tr>\n",
       "    <tr>\n",
       "      <td>39</td>\n",
       "      <td>0.014435</td>\n",
       "      <td>0.020772</td>\n",
       "      <td>0.983317</td>\n",
       "      <td>00:00</td>\n",
       "    </tr>\n",
       "  </tbody>\n",
       "</table>"
      ],
      "text/plain": [
       "<IPython.core.display.HTML object>"
      ]
     },
     "metadata": {},
     "output_type": "display_data"
    }
   ],
   "source": [
    "simple_net = nn.Sequential(\n",
    "    nn.Linear(28*28,30),\n",
    "    nn.ReLU(),\n",
    "    nn.Linear(30,1))\n",
    "\n",
    "learn = Learner(dls, simple_net, opt_func=SGD, loss_func=mnist_loss, metrics=batch_accuracy)\n",
    "learn.fit(40, 0.1)"
   ]
  },
  {
   "cell_type": "code",
   "execution_count": 125,
   "metadata": {},
   "outputs": [
    {
     "data": {
      "image/png": "[encoded data removed]",
      "text/plain": [
       "<Figure size 640x480 with 1 Axes>"
      ]
     },
     "metadata": {},
     "output_type": "display_data"
    }
   ],
   "source": [
    "plt.plot(L(learn.recorder.values).itemgot(2));"
   ]
  },
  {
   "cell_type": "code",
   "execution_count": 126,
   "metadata": {},
   "outputs": [
    {
     "name": "stderr",
     "output_type": "stream",
     "text": [
      "c:\\Users\\joaqu\\anaconda3\\envs\\pytorch_env\\Lib\\site-packages\\fastai\\vision\\learner.py:301: UserWarning: `cnn_learner` has been renamed to `vision_learner` -- please update your code\n",
      "  warn(\"`cnn_learner` has been renamed to `vision_learner` -- please update your code\")\n"
     ]
    },
    {
     "data": {
      "text/html": [
       "\n",
       "<style>\n",
       "    /* Turns off some styling */\n",
       "    progress {\n",
       "        /* gets rid of default border in Firefox and Opera. */\n",
       "        border: none;\n",
       "        /* Needs to be in here for Safari polyfill so background images work as expected. */\n",
       "        background-size: auto;\n",
       "    }\n",
       "    progress:not([value]), progress:not([value])::-webkit-progress-bar {\n",
       "        background: repeating-linear-gradient(45deg, #7e7e7e, #7e7e7e 10px, #5c5c5c 10px, #5c5c5c 20px);\n",
       "    }\n",
       "    .progress-bar-interrupted, .progress-bar-interrupted::-webkit-progress-bar {\n",
       "        background: #F44336;\n",
       "    }\n",
       "</style>\n"
      ],
      "text/plain": [
       "<IPython.core.display.HTML object>"
      ]
     },
     "metadata": {},
     "output_type": "display_data"
    },
    {
     "data": {
      "text/html": [
       "<table border=\"1\" class=\"dataframe\">\n",
       "  <thead>\n",
       "    <tr style=\"text-align: left;\">\n",
       "      <th>epoch</th>\n",
       "      <th>train_loss</th>\n",
       "      <th>valid_loss</th>\n",
       "      <th>accuracy</th>\n",
       "      <th>time</th>\n",
       "    </tr>\n",
       "  </thead>\n",
       "  <tbody>\n",
       "    <tr>\n",
       "      <td>0</td>\n",
       "      <td>0.092563</td>\n",
       "      <td>0.016666</td>\n",
       "      <td>0.996565</td>\n",
       "      <td>00:32</td>\n",
       "    </tr>\n",
       "  </tbody>\n",
       "</table>"
      ],
      "text/plain": [
       "<IPython.core.display.HTML object>"
      ]
     },
     "metadata": {},
     "output_type": "display_data"
    }
   ],
   "source": [
    "#Using a Resnet model\n",
    "\n",
    "dls = ImageDataLoaders.from_folder(path)\n",
    "learn = cnn_learner(dls, resnet18, pretrained=False, loss_func=F.cross_entropy, metrics=accuracy)\n",
    "learn.fit_one_cycle(1, 0.1)"
   ]
  }
 ],
 "metadata": {
  "kernelspec": {
   "display_name": "pytorch_env",
   "language": "python",
   "name": "python3"
  },
  "language_info": {
   "codemirror_mode": {
    "name": "ipython",
    "version": 3
   },
   "file_extension": ".py",
   "mimetype": "text/x-python",
   "name": "python",
   "nbconvert_exporter": "python",
   "pygments_lexer": "ipython3",
   "version": "3.11.0"
  }
 },
 "nbformat": 4,
 "nbformat_minor": 2
}
